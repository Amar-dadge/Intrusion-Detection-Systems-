{
 "cells": [
  {
   "cell_type": "code",
   "execution_count": 4,
   "id": "ddb9633c",
   "metadata": {},
   "outputs": [],
   "source": [
    "import os\n",
    "import time\n",
    "import joblib\n",
    "import pandas as pd\n",
    "import csv\n",
    "import random"
   ]
  },
  {
   "cell_type": "code",
   "execution_count": 3,
   "id": "6bc9ec96",
   "metadata": {},
   "outputs": [],
   "source": [
    "df = pd.read_csv('temp/data.csv')"
   ]
  },
  {
   "cell_type": "code",
   "execution_count": 5,
   "id": "adaa9111",
   "metadata": {},
   "outputs": [],
   "source": [
    "\n",
    "\n",
    "def create_random_csv(input_file, output_prefix, num_files, max_rows):\n",
    "    with open(input_file, 'r') as file:\n",
    "        reader = csv.reader(file)\n",
    "        data = list(reader)\n",
    "    \n",
    "    for i in range(num_files):\n",
    "        output_file = f\"{output_prefix}_{i}.csv\"\n",
    "        num_rows = random.randint(1, max_rows)\n",
    "        with open(output_file, 'w', newline='') as file:\n",
    "            writer = csv.writer(file)\n",
    "            writer.writerows(random.sample(data, num_rows))\n",
    "            print(f\"Created {output_file} with {num_rows} rows\")\n",
    "\n",
    "\n"
   ]
  },
  {
   "cell_type": "code",
   "execution_count": 7,
   "id": "e895bf0c",
   "metadata": {},
   "outputs": [
    {
     "name": "stdout",
     "output_type": "stream",
     "text": [
      "Created output/_0.csv with 4 rows\n",
      "Created output/_1.csv with 1 rows\n",
      "Created output/_2.csv with 10 rows\n",
      "Created output/_3.csv with 3 rows\n",
      "Created output/_4.csv with 10 rows\n"
     ]
    }
   ],
   "source": [
    "# Example usage\n",
    "input_file = 'temp/data.csv'\n",
    "output_prefix = 'output/'\n",
    "num_files = 5\n",
    "max_rows = 10\n",
    "\n",
    "create_random_csv(input_file, output_prefix, num_files, max_rows)"
   ]
  },
  {
   "cell_type": "code",
   "execution_count": null,
   "id": "586aa6af",
   "metadata": {},
   "outputs": [],
   "source": []
  }
 ],
 "metadata": {
  "kernelspec": {
   "display_name": "Python 3 (ipykernel)",
   "language": "python",
   "name": "python3"
  },
  "language_info": {
   "codemirror_mode": {
    "name": "ipython",
    "version": 3
   },
   "file_extension": ".py",
   "mimetype": "text/x-python",
   "name": "python",
   "nbconvert_exporter": "python",
   "pygments_lexer": "ipython3",
   "version": "3.7.6"
  }
 },
 "nbformat": 4,
 "nbformat_minor": 5
}
