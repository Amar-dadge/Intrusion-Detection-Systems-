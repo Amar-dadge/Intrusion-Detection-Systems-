{
 "cells": [
  {
   "cell_type": "code",
   "execution_count": null,
   "metadata": {},
   "outputs": [
    {
     "name": "stderr",
     "output_type": "stream",
     "text": [
      "C:\\Users\\sumit\\anaconda3\\lib\\site-packages\\numpy\\_distributor_init.py:32: UserWarning: loaded more than 1 DLL from .libs:\n",
      "C:\\Users\\sumit\\anaconda3\\lib\\site-packages\\numpy\\.libs\\libopenblas.PYQHXLVVQ7VESDPUVUADXEVJOBGHJPAY.gfortran-win_amd64.dll\n",
      "C:\\Users\\sumit\\anaconda3\\lib\\site-packages\\numpy\\.libs\\libopenblas.XWYDX2IKJW2NMTWSFYNGFUWKQU3LYTCZ.gfortran-win_amd64.dll\n",
      "  stacklevel=1)\n"
     ]
    },
    {
     "name": "stdout",
     "output_type": "stream",
     "text": [
      "Index(['-1.359807134', '-0.072781173', '2.536346738', '1.378155224',\n",
      "       '-0.33832077', '0.462387778', '0.239598554', '0.098697901',\n",
      "       '0.36378697', '0.090794172', '-0.551599533', '-0.617800856',\n",
      "       '-0.991389847', '-0.311169354', '1.468176972', '-0.470400525',\n",
      "       '0.207971242', '0.02579058', '0.40399296', '0.251412098',\n",
      "       '-0.018306778', '0.277837576', '-0.11047391', '0.066928075',\n",
      "       '0.128539358', '-0.189114844', '0.133558377', '-0.021053053', '149.62'],\n",
      "      dtype='object')\n"
     ]
    },
    {
     "name": "stderr",
     "output_type": "stream",
     "text": [
      "C:\\Users\\sumit\\anaconda3\\lib\\site-packages\\sklearn\\base.py:338: UserWarning: Trying to unpickle estimator PCA from version 1.0 when using version 1.0.2. This might lead to breaking code or invalid results. Use at your own risk. For more info please refer to:\n",
      "https://scikit-learn.org/stable/modules/model_persistence.html#security-maintainability-limitations\n",
      "  UserWarning,\n",
      "C:\\Users\\sumit\\anaconda3\\lib\\site-packages\\sklearn\\base.py:338: UserWarning: Trying to unpickle estimator DecisionTreeClassifier from version 1.0 when using version 1.0.2. This might lead to breaking code or invalid results. Use at your own risk. For more info please refer to:\n",
      "https://scikit-learn.org/stable/modules/model_persistence.html#security-maintainability-limitations\n",
      "  UserWarning,\n",
      "C:\\Users\\sumit\\anaconda3\\lib\\site-packages\\sklearn\\base.py:338: UserWarning: Trying to unpickle estimator RandomForestClassifier from version 1.0 when using version 1.0.2. This might lead to breaking code or invalid results. Use at your own risk. For more info please refer to:\n",
      "https://scikit-learn.org/stable/modules/model_persistence.html#security-maintainability-limitations\n",
      "  UserWarning,\n",
      "C:\\Users\\sumit\\anaconda3\\lib\\site-packages\\sklearn\\base.py:338: UserWarning: Trying to unpickle estimator Pipeline from version 1.0 when using version 1.0.2. This might lead to breaking code or invalid results. Use at your own risk. For more info please refer to:\n",
      "https://scikit-learn.org/stable/modules/model_persistence.html#security-maintainability-limitations\n",
      "  UserWarning,\n",
      "C:\\Users\\sumit\\anaconda3\\lib\\site-packages\\sklearn\\base.py:451: UserWarning: X does not have valid feature names, but PCA was fitted with feature names\n",
      "  \"X does not have valid feature names, but\"\n"
     ]
    },
    {
     "name": "stdout",
     "output_type": "stream",
     "text": [
      "[0]\n",
      "Test_Accuracy: 100.000000\n"
     ]
    },
    {
     "name": "stderr",
     "output_type": "stream",
     "text": [
      "C:\\Users\\sumit\\anaconda3\\lib\\site-packages\\sklearn\\base.py:451: UserWarning: X does not have valid feature names, but PCA was fitted with feature names\n",
      "  \"X does not have valid feature names, but\"\n"
     ]
    },
    {
     "data": {
      "image/png": "[encoded data removed]",
      "text/plain": [
       "<Figure size 720x360 with 1 Axes>"
      ]
     },
     "metadata": {
      "needs_background": "light"
     },
     "output_type": "display_data"
    }
   ],
   "source": [
    "import time\n",
    "#from twilio.rest import Client\n",
    "import os\n",
    "import pickle\n",
    "import pandas as pd\n",
    "import numpy as np\n",
    "import matplotlib.pyplot as plt\n",
    "'''\n",
    "account_sid = 'AC77e1604d0e580b692283ecb84072ee25'\n",
    "auth_token = 'dfdbccace99266781db4757e9d72712a'\n",
    "client = Client(account_sid, auth_token)\n",
    "\n",
    "'''\n",
    "\n",
    "\n",
    "\n",
    "while True:\n",
    "    f=open('input1.txt','r')\n",
    "    data=f.read()\n",
    "    f.close()\n",
    "    if data=='read':\n",
    "        \n",
    "        df=pd.read_csv('test/input.csv')\n",
    "        print(df.columns)\n",
    "        l=df.columns\n",
    "        \n",
    "        '''\n",
    "        f=open('test/input.txt','r')\n",
    "        data=f.read()\n",
    "        f.close()\n",
    "        l=data.split(',')\n",
    "        \n",
    "        print(l)\n",
    "        print(len(l))\n",
    "        l=[l]\n",
    "        \n",
    "        '''\n",
    "        f1=open('BEST_Model.pkl','rb')\n",
    "        model=pickle.load(f1)\n",
    "        p=model.predict([l])\n",
    "        print(p)\n",
    "        new_prob = model.predict_proba([l])\n",
    "        test_confidance = 100*np.max(new_prob)\n",
    "        acc = \"{:.0f}\".format(test_confidance)\n",
    "        accuracy = \"{:2f}\".format(test_confidance)\n",
    "        print(\"Test_Accuracy:\",accuracy)\n",
    "        d={}\n",
    "        \n",
    "        \n",
    "        f=open('output.txt','w')\n",
    "        if str(p[0])=='1':\n",
    "            f.write('Fraud')\n",
    "            d['Fraud']=float(accuracy)\n",
    "            d['No Fraud']=float(100-float(accuracy))\n",
    "            #message = client.messages.create(body=\"Credit Card Fraud Transaction Detected\",from_='+16205915989',to='+91'+str(mob))\n",
    "            #print(message.sid)\n",
    "        else:\n",
    "            f.write('No Fraud')\n",
    "            d['Fraud']=float(100-float(accuracy))\n",
    "            d['No Fraud']=float(accuracy)\n",
    "        fig = plt.figure(figsize = (10, 5))\n",
    "        cases=d.keys()\n",
    "        p=d.values()\n",
    "        # creating the bar plot\n",
    "        plt.bar(cases, p, color ='maroon',width = 0.4)\n",
    "\n",
    "        plt.xlabel(\"Credit Card Fraud\")\n",
    "        plt.ylabel(\"%\")\n",
    "        plt.title(\"Cases\")\n",
    "        plt.show()\n",
    "        f.close()\n",
    "        f=open('input1.txt','w')\n",
    "        f.write('')\n",
    "        f.close()\n",
    "        time.sleep(2)\n",
    "        "
   ]
  },
  {
   "cell_type": "code",
   "execution_count": null,
   "metadata": {},
   "outputs": [],
   "source": []
  }
 ],
 "metadata": {
  "kernelspec": {
   "display_name": "Python 3 (ipykernel)",
   "language": "python",
   "name": "python3"
  },
  "language_info": {
   "codemirror_mode": {
    "name": "ipython",
    "version": 3
   },
   "file_extension": ".py",
   "mimetype": "text/x-python",
   "name": "python",
   "nbconvert_exporter": "python",
   "pygments_lexer": "ipython3",
   "version": "3.7.6"
  }
 },
 "nbformat": 4,
 "nbformat_minor": 4
}
